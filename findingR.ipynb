{
 "cells": [
  {
   "cell_type": "code",
   "execution_count": 1,
   "metadata": {},
   "outputs": [],
   "source": [
    "import pandas as pd"
   ]
  },
  {
   "cell_type": "code",
   "execution_count": 2,
   "metadata": {},
   "outputs": [],
   "source": [
    "data = pd.read_csv(\"TOV.csv\")"
   ]
  },
  {
   "cell_type": "code",
   "execution_count": 3,
   "metadata": {},
   "outputs": [
    {
     "data": {
      "text/html": [
       "<div>\n",
       "<style scoped>\n",
       "    .dataframe tbody tr th:only-of-type {\n",
       "        vertical-align: middle;\n",
       "    }\n",
       "\n",
       "    .dataframe tbody tr th {\n",
       "        vertical-align: top;\n",
       "    }\n",
       "\n",
       "    .dataframe thead th {\n",
       "        text-align: right;\n",
       "    }\n",
       "</style>\n",
       "<table border=\"1\" class=\"dataframe\">\n",
       "  <thead>\n",
       "    <tr style=\"text-align: right;\">\n",
       "      <th></th>\n",
       "      <th>R</th>\n",
       "      <th>M</th>\n",
       "      <th>P</th>\n",
       "    </tr>\n",
       "  </thead>\n",
       "  <tbody>\n",
       "    <tr>\n",
       "      <th>0</th>\n",
       "      <td>0.000406</td>\n",
       "      <td>1.144851e-13</td>\n",
       "      <td>1.297307e+27</td>\n",
       "    </tr>\n",
       "    <tr>\n",
       "      <th>1</th>\n",
       "      <td>0.000812</td>\n",
       "      <td>9.731233e-13</td>\n",
       "      <td>1.297307e+27</td>\n",
       "    </tr>\n",
       "    <tr>\n",
       "      <th>2</th>\n",
       "      <td>0.001218</td>\n",
       "      <td>3.205582e-12</td>\n",
       "      <td>1.297307e+27</td>\n",
       "    </tr>\n",
       "    <tr>\n",
       "      <th>3</th>\n",
       "      <td>0.001624</td>\n",
       "      <td>7.498773e-12</td>\n",
       "      <td>1.297307e+27</td>\n",
       "    </tr>\n",
       "    <tr>\n",
       "      <th>4</th>\n",
       "      <td>0.002030</td>\n",
       "      <td>1.453961e-11</td>\n",
       "      <td>1.297307e+27</td>\n",
       "    </tr>\n",
       "    <tr>\n",
       "      <th>...</th>\n",
       "      <td>...</td>\n",
       "      <td>...</td>\n",
       "      <td>...</td>\n",
       "    </tr>\n",
       "    <tr>\n",
       "      <th>35524</th>\n",
       "      <td>14.420682</td>\n",
       "      <td>8.242454e-01</td>\n",
       "      <td>6.573671e+17</td>\n",
       "    </tr>\n",
       "    <tr>\n",
       "      <th>35525</th>\n",
       "      <td>14.421088</td>\n",
       "      <td>8.242454e-01</td>\n",
       "      <td>5.092602e+17</td>\n",
       "    </tr>\n",
       "    <tr>\n",
       "      <th>35526</th>\n",
       "      <td>14.421494</td>\n",
       "      <td>8.242454e-01</td>\n",
       "      <td>3.832778e+17</td>\n",
       "    </tr>\n",
       "    <tr>\n",
       "      <th>35527</th>\n",
       "      <td>14.421900</td>\n",
       "      <td>8.242454e-01</td>\n",
       "      <td>2.781736e+17</td>\n",
       "    </tr>\n",
       "    <tr>\n",
       "      <th>35528</th>\n",
       "      <td>14.422306</td>\n",
       "      <td>8.242454e-01</td>\n",
       "      <td>1.926264e+17</td>\n",
       "    </tr>\n",
       "  </tbody>\n",
       "</table>\n",
       "<p>35529 rows × 3 columns</p>\n",
       "</div>"
      ],
      "text/plain": [
       "               R             M             P\n",
       "0       0.000406  1.144851e-13  1.297307e+27\n",
       "1       0.000812  9.731233e-13  1.297307e+27\n",
       "2       0.001218  3.205582e-12  1.297307e+27\n",
       "3       0.001624  7.498773e-12  1.297307e+27\n",
       "4       0.002030  1.453961e-11  1.297307e+27\n",
       "...          ...           ...           ...\n",
       "35524  14.420682  8.242454e-01  6.573671e+17\n",
       "35525  14.421088  8.242454e-01  5.092602e+17\n",
       "35526  14.421494  8.242454e-01  3.832778e+17\n",
       "35527  14.421900  8.242454e-01  2.781736e+17\n",
       "35528  14.422306  8.242454e-01  1.926264e+17\n",
       "\n",
       "[35529 rows x 3 columns]"
      ]
     },
     "execution_count": 3,
     "metadata": {},
     "output_type": "execute_result"
    }
   ],
   "source": [
    "#find R such that P is aproximately 0\n",
    "data.plot(x=\"R\", y=\"P\")\n"
   ]
  },
  {
   "cell_type": "code",
   "execution_count": null,
   "metadata": {},
   "outputs": [],
   "source": []
  }
 ],
 "metadata": {
  "kernelspec": {
   "display_name": "relatividad-oN4EvTqC",
   "language": "python",
   "name": "python3"
  },
  "language_info": {
   "codemirror_mode": {
    "name": "ipython",
    "version": 3
   },
   "file_extension": ".py",
   "mimetype": "text/x-python",
   "name": "python",
   "nbconvert_exporter": "python",
   "pygments_lexer": "ipython3",
   "version": "3.10.11"
  },
  "orig_nbformat": 4
 },
 "nbformat": 4,
 "nbformat_minor": 2
}
